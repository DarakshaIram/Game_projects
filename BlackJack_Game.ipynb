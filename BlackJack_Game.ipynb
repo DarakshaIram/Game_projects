{
 "cells": [
  {
   "cell_type": "code",
   "execution_count": 1,
   "metadata": {},
   "outputs": [],
   "source": [
    "import random\n",
    "suits = ('Hearts', 'Diamonds', 'Spades', 'Clubs')\n",
    "ranks = ('Two', 'Three', 'Four', 'Five', 'Six', 'Seven', 'Eight', 'Nine', 'Ten', 'Jack', 'Queen', 'King', 'Ace')"
   ]
  },
  {
   "cell_type": "code",
   "execution_count": 2,
   "metadata": {},
   "outputs": [],
   "source": [
    "values = {'Two':2, 'Three':3, 'Four':4, 'Five':5, 'Six':6, 'Seven':7, 'Eight':8, \n",
    "            'Nine':9, 'Ten':10, 'Jack':10, 'Queen':10, 'King':10,'Ace':1}"
   ]
  },
  {
   "cell_type": "code",
   "execution_count": 3,
   "metadata": {},
   "outputs": [
    {
     "data": {
      "text/plain": [
       "1"
      ]
     },
     "execution_count": 3,
     "metadata": {},
     "output_type": "execute_result"
    }
   ],
   "source": [
    "values[\"Ace\"]"
   ]
  },
  {
   "cell_type": "code",
   "execution_count": 4,
   "metadata": {},
   "outputs": [],
   "source": [
    "class card:\n",
    "    \n",
    "    def __init__(self,rank,suit):\n",
    "        self.rank = rank\n",
    "        self.value = values[rank]\n",
    "        self.suit = suit\n",
    "        \n",
    "    def __str__(self):\n",
    "        return f'{self.rank} of {self.suit}'\n",
    "    "
   ]
  },
  {
   "cell_type": "code",
   "execution_count": 5,
   "metadata": {},
   "outputs": [],
   "source": [
    "new_card = card(\"Two\",\"Iram\")"
   ]
  },
  {
   "cell_type": "code",
   "execution_count": 6,
   "metadata": {},
   "outputs": [],
   "source": [
    "class Deck:\n",
    "    \n",
    "    def __init__(self,suits,ranks):\n",
    "        self.all_cards = []\n",
    "        \n",
    "        for suit in suits:\n",
    "            for rank in ranks:\n",
    "                create_card = card(rank,suit)\n",
    "                self.all_cards.append(create_card)\n",
    "                \n",
    "    def shuffle(self):\n",
    "        random.shuffle(self.all_cards)"
   ]
  },
  {
   "cell_type": "code",
   "execution_count": 7,
   "metadata": {},
   "outputs": [],
   "source": [
    "new_deck = Deck(suits,ranks)"
   ]
  },
  {
   "cell_type": "code",
   "execution_count": 8,
   "metadata": {
    "scrolled": true
   },
   "outputs": [],
   "source": [
    "def returnCurrentcardCount():\n",
    "    count=0\n",
    "    for card_object in new_deck.all_cards:\n",
    "        print(card_object)\n",
    "        count= count+1\n",
    "    return count"
   ]
  },
  {
   "cell_type": "code",
   "execution_count": 9,
   "metadata": {},
   "outputs": [
    {
     "name": "stdout",
     "output_type": "stream",
     "text": [
      "Two of Hearts\n",
      "Three of Hearts\n",
      "Four of Hearts\n",
      "Five of Hearts\n",
      "Six of Hearts\n",
      "Seven of Hearts\n",
      "Eight of Hearts\n",
      "Nine of Hearts\n",
      "Ten of Hearts\n",
      "Jack of Hearts\n",
      "Queen of Hearts\n",
      "King of Hearts\n",
      "Ace of Hearts\n",
      "Two of Diamonds\n",
      "Three of Diamonds\n",
      "Four of Diamonds\n",
      "Five of Diamonds\n",
      "Six of Diamonds\n",
      "Seven of Diamonds\n",
      "Eight of Diamonds\n",
      "Nine of Diamonds\n",
      "Ten of Diamonds\n",
      "Jack of Diamonds\n",
      "Queen of Diamonds\n",
      "King of Diamonds\n",
      "Ace of Diamonds\n",
      "Two of Spades\n",
      "Three of Spades\n",
      "Four of Spades\n",
      "Five of Spades\n",
      "Six of Spades\n",
      "Seven of Spades\n",
      "Eight of Spades\n",
      "Nine of Spades\n",
      "Ten of Spades\n",
      "Jack of Spades\n",
      "Queen of Spades\n",
      "King of Spades\n",
      "Ace of Spades\n",
      "Two of Clubs\n",
      "Three of Clubs\n",
      "Four of Clubs\n",
      "Five of Clubs\n",
      "Six of Clubs\n",
      "Seven of Clubs\n",
      "Eight of Clubs\n",
      "Nine of Clubs\n",
      "Ten of Clubs\n",
      "Jack of Clubs\n",
      "Queen of Clubs\n",
      "King of Clubs\n",
      "Ace of Clubs\n"
     ]
    },
    {
     "data": {
      "text/plain": [
       "52"
      ]
     },
     "execution_count": 9,
     "metadata": {},
     "output_type": "execute_result"
    }
   ],
   "source": [
    "returnCurrentcardCount()"
   ]
  },
  {
   "cell_type": "code",
   "execution_count": 10,
   "metadata": {},
   "outputs": [],
   "source": [
    "class Account:\n",
    "    \n",
    "    def __init__(self,player,balance):\n",
    "        print(\"Welcome to the Game {}\".format(player))\n",
    "        self.balance = balance\n",
    "        self.player = player\n",
    "        \n",
    "    def deposit(self,amount):\n",
    "        self.balance = self.balance + amount\n",
    "        print(\"Now ur balance is {}\".format(self.balance))\n",
    "    \n",
    "    def with_draw(self,deduct):\n",
    "        \n",
    "        if self.balance >= deduct:\n",
    "            self.balance = self.balance - deduct\n",
    "            \n",
    "        else:\n",
    "            \n",
    "            print(\"Sorry!! ur request exceeds ur balance\")\n",
    "            \n",
    "    def __str__(self):\n",
    "        \n",
    "        return f\"Player {self.player} \\nBalance {self.balance}\"\n",
    "    "
   ]
  },
  {
   "cell_type": "code",
   "execution_count": 11,
   "metadata": {},
   "outputs": [
    {
     "name": "stdout",
     "output_type": "stream",
     "text": [
      "Welcome to the Game Jose\n"
     ]
    }
   ],
   "source": [
    "acct = Account('Jose',100)"
   ]
  },
  {
   "cell_type": "code",
   "execution_count": 12,
   "metadata": {},
   "outputs": [
    {
     "data": {
      "text/plain": [
       "100"
      ]
     },
     "execution_count": 12,
     "metadata": {},
     "output_type": "execute_result"
    }
   ],
   "source": [
    "acct.balance"
   ]
  },
  {
   "cell_type": "code",
   "execution_count": 13,
   "metadata": {},
   "outputs": [
    {
     "name": "stdout",
     "output_type": "stream",
     "text": [
      "Player Jose \n",
      "Balance 100\n"
     ]
    }
   ],
   "source": [
    "print(acct)"
   ]
  },
  {
   "cell_type": "code",
   "execution_count": 14,
   "metadata": {},
   "outputs": [
    {
     "name": "stdout",
     "output_type": "stream",
     "text": [
      "Now ur balance is 300\n"
     ]
    }
   ],
   "source": [
    "acct.deposit(200)"
   ]
  },
  {
   "cell_type": "code",
   "execution_count": 15,
   "metadata": {},
   "outputs": [],
   "source": [
    "class player:\n",
    "    \n",
    "    def __init__(self,name):        \n",
    "        self.name = name\n",
    "        self.player_cards =[]\n",
    "        \n",
    "    def hit_card(self):\n",
    "        return new_deck.all_cards.pop(0).value\n",
    "    \n",
    "    def __str__(self):\n",
    "        return f'Player {self.name} has {len(self.player_cards)} cards.'"
   ]
  },
  {
   "cell_type": "code",
   "execution_count": 16,
   "metadata": {},
   "outputs": [],
   "source": [
    "new_player = player(\"Iram\")"
   ]
  },
  {
   "cell_type": "code",
   "execution_count": 17,
   "metadata": {},
   "outputs": [
    {
     "name": "stdout",
     "output_type": "stream",
     "text": [
      "Player Iram has 0 cards.\n"
     ]
    }
   ],
   "source": [
    "print(new_player)"
   ]
  },
  {
   "cell_type": "code",
   "execution_count": 18,
   "metadata": {},
   "outputs": [
    {
     "name": "stdout",
     "output_type": "stream",
     "text": [
      "[]\n"
     ]
    }
   ],
   "source": [
    "print(new_player.player_cards)"
   ]
  },
  {
   "cell_type": "code",
   "execution_count": 19,
   "metadata": {},
   "outputs": [
    {
     "name": "stdout",
     "output_type": "stream",
     "text": [
      "Welcome to the Game Iram\n",
      "Welcome to the Game saba\n",
      "Player Iram has 0 cards.\n",
      "Player Saba has 0 cards.\n",
      "In while 0\n",
      "6\n",
      "6\n",
      "In while 6\n",
      "7\n",
      "13\n",
      "In while 13\n",
      "10\n",
      "23\n",
      "Saba turn\n",
      "Saba won!\n",
      "Now ur balance is 700\n",
      "Congratulations!!\n"
     ]
    }
   ],
   "source": [
    "# GAME SETUP  ## HUMAN TRAIL & computer trail\n",
    "acct1 = Account('Iram',200)\n",
    "acct2 = Account('saba',500)\n",
    "player_one = player(\"Iram\")\n",
    "player_two = player(\"Saba\")\n",
    "new_deck = Deck(suits,ranks)\n",
    "new_deck.shuffle()\n",
    "print(player_one)\n",
    "print(player_two)\n",
    "sum =0\n",
    "\n",
    "while sum <= 21:\n",
    "    if(sum >=19):\n",
    "        break;\n",
    "    print(\"In while\", sum)\n",
    "    value = new_player.hit_card()\n",
    "    print(value)\n",
    "    if value == 1:\n",
    "        if sum+11 > 21:\n",
    "            print(sum)\n",
    "        else:\n",
    "            value = 11\n",
    "    sum = sum + value\n",
    "    print(sum)\n",
    "print(player_two.name,\"turn\")\n",
    "\n",
    "if sum > 21:\n",
    "    print(player_two.name, \"won!\")\n",
    "    acct2.deposit(acct1.balance)\n",
    "    \n",
    "elif sum == 21:\n",
    "    print(player_one.name, \"wins!\")\n",
    "    acct1.deposit(acct2.balance)\n",
    "    \n",
    "else:\n",
    "    second_sum = 0\n",
    "    while second_sum <= 21:\n",
    "        if(second_sum >= 19):\n",
    "            break;\n",
    "        print(\"In while\", second_sum)\n",
    "        value = new_player.hit_card()\n",
    "        print(value)\n",
    "        if value == 1:\n",
    "            if second_sum+11 > 21:\n",
    "                print(second_sum)\n",
    "            else:\n",
    "                value = 11\n",
    "        second_sum = second_sum + value\n",
    "        print(second_sum)\n",
    "        \n",
    "    if sum <21 and second_sum <21 and sum != second_sum:\n",
    "       \n",
    "        if sum > second_sum:\n",
    "            print(player_one.name, \"wins!\")\n",
    "            acct1.deposit(acct2.balance)\n",
    "             \n",
    "        else:\n",
    "            print(player_two.name, \"wins!\")\n",
    "            acct2.deposit(acct1.balance)\n",
    "            \n",
    "    if second_sum > 21:\n",
    "        print(player_one.name, \"wins\")\n",
    "        acct1.deposit(acct2.balance)\n",
    "        \n",
    "    if second_sum == 21:\n",
    "        print(player_two.name, \"wins!\")\n",
    "        acct2.deposit(acct1.balance)\n",
    "        \n",
    "    if sum == second_sum:\n",
    "        print(\"It's a Tie !!\")\n",
    "    \n",
    "    print(\"End of the game\")\n",
    "\n",
    "print(\"Congratulations!!\")\n"
   ]
  },
  {
   "cell_type": "code",
   "execution_count": null,
   "metadata": {},
   "outputs": [],
   "source": []
  }
 ],
 "metadata": {
  "kernelspec": {
   "display_name": "Python 3",
   "language": "python",
   "name": "python3"
  },
  "language_info": {
   "codemirror_mode": {
    "name": "ipython",
    "version": 3
   },
   "file_extension": ".py",
   "mimetype": "text/x-python",
   "name": "python",
   "nbconvert_exporter": "python",
   "pygments_lexer": "ipython3",
   "version": "3.8.3"
  }
 },
 "nbformat": 4,
 "nbformat_minor": 4
}
